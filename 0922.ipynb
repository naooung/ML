{
 "cells": [
  {
   "cell_type": "markdown",
   "id": "3c0f4f5d-6883-464c-b2fa-4ee4f31eeae8",
   "metadata": {},
   "source": [
    "### 6. Masked Fill 함수\n",
    "- 텐서 내의 원하는 부분만 특정 값으로 채움\n",
    "- 원하는 위치는 마스크로 설정"
   ]
  },
  {
   "cell_type": "code",
   "execution_count": 2,
   "id": "d5c57997-d8ea-40bd-8695-f240caab764b",
   "metadata": {},
   "outputs": [
    {
     "data": {
      "text/plain": [
       "tensor([[0., 1., 2.],\n",
       "        [3., 4., 5.],\n",
       "        [6., 7., 8.]])"
      ]
     },
     "execution_count": 2,
     "metadata": {},
     "output_type": "execute_result"
    }
   ],
   "source": [
    "import torch\n",
    "x = torch.FloatTensor([i for i in range(3**2)]).reshape(3, -1)\n",
    "x"
   ]
  },
  {
   "cell_type": "code",
   "execution_count": 4,
   "id": "434c4e8c-6942-4e03-bfaf-9cf6bd640384",
   "metadata": {},
   "outputs": [
    {
     "data": {
      "text/plain": [
       "tensor([[False, False, False],\n",
       "        [False, False,  True],\n",
       "        [ True,  True,  True]])"
      ]
     },
     "execution_count": 4,
     "metadata": {},
     "output_type": "execute_result"
    }
   ],
   "source": [
    "mask = x > 4\n",
    "mask"
   ]
  },
  {
   "cell_type": "code",
   "execution_count": 5,
   "id": "51d6d899-eb8e-40ac-ba8d-75b519c90994",
   "metadata": {},
   "outputs": [
    {
     "data": {
      "text/plain": [
       "tensor([[  0.,   1.,   2.],\n",
       "        [  3.,   4., 100.],\n",
       "        [100., 100., 100.]])"
      ]
     },
     "execution_count": 5,
     "metadata": {},
     "output_type": "execute_result"
    }
   ],
   "source": [
    "x.masked_fill(mask, value=100)"
   ]
  },
  {
   "cell_type": "markdown",
   "id": "59f7759c-b6e7-4d0e-9f38-51181e921c62",
   "metadata": {},
   "source": [
    "#### 참고\n",
    "- expand()에서 확장되는 차원의 데이터는 원본 데이터의 참조일 뿐, 복사가 아님\n",
    "- 그러므로 값을 변경하면 함께 변경됨"
   ]
  },
  {
   "cell_type": "markdown",
   "id": "d8c38a78-1ac3-4d1f-9f40-c8c880c97aeb",
   "metadata": {},
   "source": [
    "### 4.2 행렬곱"
   ]
  },
  {
   "cell_type": "code",
   "execution_count": 6,
   "id": "e9249130-0ddb-4b9d-af7e-1448f1dc7035",
   "metadata": {},
   "outputs": [
    {
     "name": "stdout",
     "output_type": "stream",
     "text": [
      "torch.Size([3, 2]) torch.Size([2, 2])\n"
     ]
    }
   ],
   "source": [
    "import torch\n",
    "x = torch.FloatTensor([[1, 2],\n",
    "                       [3, 4],\n",
    "                       [5, 6]])\n",
    "\n",
    "y = torch.FloatTensor([[1, 2],\n",
    "                       [1, 2]])\n",
    "print(x.size(), y.size())"
   ]
  },
  {
   "cell_type": "code",
   "execution_count": 7,
   "id": "e07dca68-1ab3-4f14-9ca1-e77b09d91ba1",
   "metadata": {},
   "outputs": [
    {
     "name": "stdout",
     "output_type": "stream",
     "text": [
      "torch.Size([3, 2])\n"
     ]
    }
   ],
   "source": [
    "z = torch.matmul(x, y)\n",
    "print(z.size())"
   ]
  },
  {
   "cell_type": "markdown",
   "id": "06a4341f-d45e-4775-b21c-73b14e56b904",
   "metadata": {},
   "source": [
    "#### 배치 행렬곱\n",
    "- bmm(): 3차원 행렬 계산에 용이\n",
    "- 3x3x2인 텐서는 3x2 크기의 행렬이 3개 있는 것으로 볼 수 있음\n",
    "- 3x2x3인 텐서는 2x3 크기의 행렬 3개임\n",
    "- 3x2 행렬과 2x3 행렬의 곱 3개를 병렬로 한번에 계산 -> 3x3x3 (3x3 크기의 행렬 3개)"
   ]
  },
  {
   "cell_type": "code",
   "execution_count": 8,
   "id": "430d6372-4be0-428a-8163-c4c59d11c776",
   "metadata": {},
   "outputs": [
    {
     "name": "stdout",
     "output_type": "stream",
     "text": [
      "torch.Size([3, 3, 3])\n"
     ]
    }
   ],
   "source": [
    "x = torch.FloatTensor(3,3,2)\n",
    "y = torch.FloatTensor(3,2,3)\n",
    "z = torch.bmm(x,y)\n",
    "print(z.size())"
   ]
  },
  {
   "cell_type": "markdown",
   "id": "ed74cb8d-ef7b-4ef2-b629-8cf6ec6773d9",
   "metadata": {},
   "source": [
    "### 4.4 선형 계층\n",
    "- 3 x 2 크기의 행렬 W와 2개의 요소를 갖는 벡터 b를 선언\n",
    "- 입력: 3개의 뉴련, 출력: 2개의 뉴런"
   ]
  },
  {
   "cell_type": "code",
   "execution_count": 14,
   "id": "7021c7b5-914e-42d5-b40b-495b3ecc929f",
   "metadata": {},
   "outputs": [],
   "source": [
    "W = torch.FloatTensor([[1, 2],\n",
    "                       [3, 4],\n",
    "                       [5, 6]])\n",
    "\n",
    "b = torch.FloatTensor([2, 2])"
   ]
  },
  {
   "cell_type": "code",
   "execution_count": 18,
   "id": "b97fab06-c705-452a-9c8f-7aedd700b2e6",
   "metadata": {},
   "outputs": [],
   "source": [
    "# 선형 계층 함수\n",
    "def linear(x, W, b):\n",
    "    y = torch.matmul(x, W) + b\n",
    "    return y"
   ]
  },
  {
   "cell_type": "code",
   "execution_count": 11,
   "id": "25421dd3-b46a-4921-a0fe-a113a2a9ea01",
   "metadata": {},
   "outputs": [
    {
     "data": {
      "text/plain": [
       "tensor([[0., 0., 0.],\n",
       "        [0., 0., 0.],\n",
       "        [0., 0., 0.],\n",
       "        [0., 0., 0.]])"
      ]
     },
     "execution_count": 11,
     "metadata": {},
     "output_type": "execute_result"
    }
   ],
   "source": [
    "# x: 3개의 요소를 갖는 4개의 샘플 (3개의 뉴련에 샘플 4개를 연속으로 입력 -> 한번에 처리)\n",
    "x = torch.FloatTensor(4,3)\n",
    "x"
   ]
  },
  {
   "cell_type": "code",
   "execution_count": 19,
   "id": "e59c48d6-7742-4706-99fd-56fadb861f05",
   "metadata": {},
   "outputs": [
    {
     "name": "stdout",
     "output_type": "stream",
     "text": [
      "torch.Size([4, 2])\n"
     ]
    },
    {
     "data": {
      "text/plain": [
       "torch.Size([4, 2])"
      ]
     },
     "execution_count": 19,
     "metadata": {},
     "output_type": "execute_result"
    }
   ],
   "source": [
    "# 4개의 샘플에 대한 결과값\n",
    "y = linear(x, W, b)\n",
    "print(y.size())\n",
    "torch.Size([4,2])"
   ]
  },
  {
   "cell_type": "code",
   "execution_count": 20,
   "id": "c4fe52ba-421f-4d88-bf08-5d307969a23e",
   "metadata": {},
   "outputs": [
    {
     "data": {
      "text/plain": [
       "tensor([[2., 2.],\n",
       "        [2., 2.],\n",
       "        [2., 2.],\n",
       "        [2., 2.]])"
      ]
     },
     "execution_count": 20,
     "metadata": {},
     "output_type": "execute_result"
    }
   ],
   "source": [
    "y"
   ]
  },
  {
   "cell_type": "markdown",
   "id": "4c448876-d13a-4666-900a-d756c5d73f01",
   "metadata": {},
   "source": [
    "#### torch.nn.Mocule 클래스 상속 받기\n",
    "- torch.nn: 신경망 패키지\n",
    "- Module: 신경망 구현을 위한 추상 클래스\n",
    "- Module 클래스를 상속받으면 2개의 메서드를 오버라이드 해야함\n",
    "    - __init__(): 계층에 필요한 변수 선언\n",
    "    - forward(): 계층을 통과하는데 필요한 계산 수행(순방향 전파)"
   ]
  },
  {
   "cell_type": "code",
   "execution_count": 21,
   "id": "8ec51e0a-ccd4-4571-a1ee-dd63818915cf",
   "metadata": {},
   "outputs": [],
   "source": [
    "import torch.nn as nn"
   ]
  },
  {
   "cell_type": "code",
   "execution_count": 25,
   "id": "5123db39-4145-4020-a846-57e3de8754dd",
   "metadata": {},
   "outputs": [],
   "source": [
    "class MyLinear(nn.Module):\n",
    "\n",
    "    def __init__(self, input_dim=3, output_dim=2):\n",
    "        self.input_dim = input_dim\n",
    "        self.output_dim = output_dim\n",
    "\n",
    "        super().__init__()\n",
    "\n",
    "        self.W = torch.FloatTensor(input_dim, output_dim)\n",
    "        self.b = torch.FloatTensor(output_dim)\n",
    "\n",
    "    def forward(self, x):\n",
    "        # |x| = (batch_size, input_dim)\n",
    "        y = torch.matmul(x, self.W) + self.b\n",
    "        # |y| = (batch_size, input_dim) * (input_dim, output_dim)\n",
    "        #     = (batch_size, output_dim)\n",
    "        \n",
    "        return y"
   ]
  },
  {
   "cell_type": "code",
   "execution_count": 31,
   "id": "c94be93b-8976-47f4-8c8e-eae491f98a6e",
   "metadata": {},
   "outputs": [],
   "source": [
    "linear = MyLinear(3,2)\n",
    "y = linear(x)\n",
    "# forward() 함수를 따로 호출하지 않고 객체명에 바로 괄호를 열어 텐서 x를 인수로 넘겨줌\n",
    "# __call() 함수와 forward() 함수가 매핑되어 있음 (자동 호출)"
   ]
  },
  {
   "cell_type": "code",
   "execution_count": 30,
   "id": "b51de02f-4f79-4adf-8a0d-f189e36f87e6",
   "metadata": {},
   "outputs": [
    {
     "data": {
      "text/plain": [
       "tensor([[0., 0.],\n",
       "        [0., 0.],\n",
       "        [0., 0.],\n",
       "        [0., 0.]])"
      ]
     },
     "execution_count": 30,
     "metadata": {},
     "output_type": "execute_result"
    }
   ],
   "source": [
    "y"
   ]
  },
  {
   "cell_type": "markdown",
   "id": "a4107870-a0c9-4e1c-90d3-359a7a2e3850",
   "metadata": {},
   "source": [
    "#### 올바른 방법: nn.Parameter 활용하기\n",
    "- 텐서를 만들어서 nn.Parameter로 넘겨줌\n",
    "- pyTorch에서 학습할 때 전달되는 파라미터 클래스"
   ]
  },
  {
   "cell_type": "code",
   "execution_count": 33,
   "id": "ca7520ee-068d-4d15-a18e-8e4122b7aa79",
   "metadata": {},
   "outputs": [],
   "source": [
    "class MyLinear(nn.Module):\n",
    "    def __init__(self, input_dim=3, output_dim=2):\n",
    "        \n",
    "        self.input_dim = input_dim\n",
    "        self.output_dim = output_dim\n",
    "        \n",
    "        super().__init__()\n",
    "\n",
    "        # 해당 부분만 수정\n",
    "        self.W = nn.Parameter(torch.FloatTensor(input_dim, output_dim))\n",
    "        self.b = nn.Parameter(torch.FloatTensor(output_dim))\n",
    "\n",
    "    def forward(self, x):\n",
    "        # |x| = (batch_size, input_dim)\n",
    "        y = torch.matmul(x, self.W) + self.b\n",
    "\n",
    "        return y"
   ]
  },
  {
   "cell_type": "code",
   "execution_count": 38,
   "id": "5e546065-2b3f-408b-a59b-40e4ee0a2ad9",
   "metadata": {},
   "outputs": [
    {
     "name": "stdout",
     "output_type": "stream",
     "text": [
      "Parameter containing:\n",
      "tensor([[ 0.4854,  0.3172, -0.4132],\n",
      "        [ 0.3038,  0.5400, -0.5668]], requires_grad=True)\n",
      "Parameter containing:\n",
      "tensor([0.1387, 0.4931], requires_grad=True)\n"
     ]
    }
   ],
   "source": [
    "for p in linear.parameters():\n",
    "    print(p)"
   ]
  },
  {
   "cell_type": "markdown",
   "id": "424a0b51-43f8-4437-a8f4-aa3e9e4dd51b",
   "metadata": {},
   "source": [
    "#### 미리 정의된 선형 계층 nn.Linear"
   ]
  },
  {
   "cell_type": "code",
   "execution_count": 36,
   "id": "c5fd144d-c5a2-43cf-8d47-6e547080c37b",
   "metadata": {},
   "outputs": [],
   "source": [
    "linear = nn.Linear(3,2)\n",
    "y = linear(x)"
   ]
  },
  {
   "cell_type": "code",
   "execution_count": 37,
   "id": "c5f9336e-e46f-4516-b83c-c0dd96ebc122",
   "metadata": {},
   "outputs": [
    {
     "name": "stdout",
     "output_type": "stream",
     "text": [
      "Parameter containing:\n",
      "tensor([[ 0.4854,  0.3172, -0.4132],\n",
      "        [ 0.3038,  0.5400, -0.5668]], requires_grad=True)\n",
      "Parameter containing:\n",
      "tensor([0.1387, 0.4931], requires_grad=True)\n"
     ]
    }
   ],
   "source": [
    "for p in linear.parameters():\n",
    "    print(p)"
   ]
  },
  {
   "cell_type": "code",
   "execution_count": 39,
   "id": "2f267485-d92e-4164-b2a6-6aa06cad1c42",
   "metadata": {},
   "outputs": [],
   "source": [
    "class MyLinear(nn.Module):\n",
    "    def __init__(self, input_dim=3, output_dim=2):\n",
    "        \n",
    "        self.input_dim = input_dim\n",
    "        self.output_dim = output_dim\n",
    "        \n",
    "        super().__init__()\n",
    "\n",
    "        self.lenear = nn.Linear(inpur_dim, out_dim)\n",
    "\n",
    "    def forward(self, x):\n",
    "        # |x| = (batch_size, input_dim)\n",
    "        y = torch.matmul(x, self.W) + self.b\n",
    "\n",
    "        return y"
   ]
  },
  {
   "cell_type": "markdown",
   "id": "25f99290-8d0e-4262-b491-8c9e8c873229",
   "metadata": {},
   "source": [
    "### 5.2 MSE Loss"
   ]
  },
  {
   "cell_type": "code",
   "execution_count": 41,
   "id": "6f631278-e7d6-4ec6-9e13-2d954cfe255f",
   "metadata": {},
   "outputs": [],
   "source": [
    "def mse(x_hat, x):\n",
    "    # |x_hat| = (batch_size, dim)\n",
    "    # |x|     = (batch_size, dim)\n",
    "    y = ((x - x_hat)**2).mean()\n",
    "    return y"
   ]
  },
  {
   "cell_type": "code",
   "execution_count": 42,
   "id": "baf4a1dd-651f-46f9-9ae8-e8e6c7924e2d",
   "metadata": {},
   "outputs": [
    {
     "name": "stdout",
     "output_type": "stream",
     "text": [
      "tensor(2.5000)\n"
     ]
    }
   ],
   "source": [
    "import torch\n",
    "x = torch.FloatTensor([[1, 1],\n",
    "                       [2, 2]])\n",
    "\n",
    "x_hat = torch.FloatTensor([[0, 0],\n",
    "                           [0, 0]])\n",
    "\n",
    "print(mse(x_hat, x))"
   ]
  },
  {
   "cell_type": "markdown",
   "id": "4754c74a-370a-4abd-b82d-8818b72e7e43",
   "metadata": {},
   "source": [
    "#### torch.nn.functional 사용"
   ]
  },
  {
   "cell_type": "code",
   "execution_count": 45,
   "id": "6449983d-e448-48a2-9e85-248b54dd5a08",
   "metadata": {},
   "outputs": [
    {
     "data": {
      "text/plain": [
       "tensor(2.5000)"
      ]
     },
     "execution_count": 45,
     "metadata": {},
     "output_type": "execute_result"
    }
   ],
   "source": [
    "import torch.nn.functional as F\n",
    "F.mse_loss(x_hat, x)"
   ]
  },
  {
   "cell_type": "code",
   "execution_count": 47,
   "id": "f43470fd-e32a-4597-844d-77f4ab4685b7",
   "metadata": {},
   "outputs": [
    {
     "data": {
      "text/plain": [
       "tensor(10.)"
      ]
     },
     "execution_count": 47,
     "metadata": {},
     "output_type": "execute_result"
    }
   ],
   "source": [
    "F.mse_loss(x_hat, x, reduction='sum')"
   ]
  },
  {
   "cell_type": "code",
   "execution_count": 48,
   "id": "80687feb-308b-40a6-a79b-16dc90cb405a",
   "metadata": {},
   "outputs": [
    {
     "data": {
      "text/plain": [
       "tensor([[1., 1.],\n",
       "        [4., 4.]])"
      ]
     },
     "execution_count": 48,
     "metadata": {},
     "output_type": "execute_result"
    }
   ],
   "source": [
    "F.mse_loss(x_hat, x, reduction='none')"
   ]
  },
  {
   "cell_type": "markdown",
   "id": "d1e5214b-7239-444e-903c-7a581cb27981",
   "metadata": {},
   "source": [
    "#### torch.nn 사용"
   ]
  },
  {
   "cell_type": "code",
   "execution_count": 49,
   "id": "76c1781c-c003-4039-ba35-d60723fcf86a",
   "metadata": {},
   "outputs": [],
   "source": [
    "import torch.nn as nn"
   ]
  },
  {
   "cell_type": "code",
   "execution_count": 51,
   "id": "249e74ad-663e-4d85-bce0-689765d30053",
   "metadata": {},
   "outputs": [
    {
     "data": {
      "text/plain": [
       "tensor(2.5000)"
      ]
     },
     "execution_count": 51,
     "metadata": {},
     "output_type": "execute_result"
    }
   ],
   "source": [
    "mse_loss = nn.MSELoss() # mm.Module의 계층(Layer)으로 다룰 수 있음\n",
    "mse_loss(x_hat, x)"
   ]
  },
  {
   "cell_type": "markdown",
   "id": "8fa4795a-a405-499c-a0c2-962e496c6e52",
   "metadata": {},
   "source": [
    "#### 교차 엔트로피"
   ]
  },
  {
   "cell_type": "code",
   "execution_count": 52,
   "id": "d09a4bae-1240-4c53-85a4-57f90b2ebb31",
   "metadata": {},
   "outputs": [
    {
     "data": {
      "text/plain": [
       "tensor(2.0794)"
      ]
     },
     "execution_count": 52,
     "metadata": {},
     "output_type": "execute_result"
    }
   ],
   "source": [
    "F.cross_entropy(x_hat, x)"
   ]
  }
 ],
 "metadata": {
  "kernelspec": {
   "display_name": "Python 3 (ipykernel)",
   "language": "python",
   "name": "python3"
  },
  "language_info": {
   "codemirror_mode": {
    "name": "ipython",
    "version": 3
   },
   "file_extension": ".py",
   "mimetype": "text/x-python",
   "name": "python",
   "nbconvert_exporter": "python",
   "pygments_lexer": "ipython3",
   "version": "3.13.5"
  }
 },
 "nbformat": 4,
 "nbformat_minor": 5
}
