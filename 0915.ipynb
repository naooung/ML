{
 "cells": [
  {
   "cell_type": "markdown",
   "id": "9b8d8acd-099c-47f4-91e1-fc83bbde4399",
   "metadata": {},
   "source": [
    "### 3. 파이토치 텐서 생성"
   ]
  },
  {
   "cell_type": "code",
   "execution_count": 1,
   "id": "dd740b85-ba67-4f6a-8f04-177a459a1b2c",
   "metadata": {},
   "outputs": [
    {
     "data": {
      "text/plain": [
       "tensor([[1., 2.],\n",
       "        [3., 4.]])"
      ]
     },
     "execution_count": 1,
     "metadata": {},
     "output_type": "execute_result"
    }
   ],
   "source": [
    "import torch\n",
    "\n",
    "# 이차원 리스트로 실수형 텐서 생성\n",
    "print(len(x.size()))"
   ]
  },
  {
   "cell_type": "code",
   "execution_count": 3,
   "id": "48594696-ec39-4ab8-b42d-9512d17c6553",
   "metadata": {},
   "outputs": [
    {
     "data": {
      "text/plain": [
       "tensor([[1, 2],\n",
       "        [3, 4]])"
      ]
     },
     "execution_count": 3,
     "metadata": {},
     "output_type": "execute_result"
    }
   ],
   "source": [
    "lt = torch.LongTensor([[1, 2], [3, 4]])\n",
    "lt"
   ]
  },
  {
   "cell_type": "code",
   "execution_count": 4,
   "id": "0a794247-e574-4819-8e39-d22b3b2a93e6",
   "metadata": {},
   "outputs": [
    {
     "data": {
      "text/plain": [
       "tensor([[1, 2],\n",
       "        [3, 4]], dtype=torch.uint8)"
      ]
     },
     "execution_count": 4,
     "metadata": {},
     "output_type": "execute_result"
    }
   ],
   "source": [
    "bt = torch.ByteTensor([[1, 2], [3, 4]])\n",
    "bt"
   ]
  },
  {
   "cell_type": "code",
   "execution_count": null,
   "id": "d3403b68-8736-4e98-b051-fb0d39b91d61",
   "metadata": {},
   "outputs": [],
   "source": [
    "# 텐서의 크기를 주고 임의의 값으로 채움\n",
    "x = torch.FloatTensor(3, 2) # 3행 2열 데이터 생성\n",
    "x #값을 넣지 않았기 때문에 쓰레기값 생성"
   ]
  },
  {
   "cell_type": "markdown",
   "id": "a9f7a91e-2a2e-4929-9a44-e0a97a3c2818",
   "metadata": {},
   "source": [
    "### 4. 넘파이 호환"
   ]
  },
  {
   "cell_type": "code",
   "execution_count": 5,
   "id": "606a0b84-1e01-4b21-8451-e21b5b7ed8a4",
   "metadata": {},
   "outputs": [
    {
     "name": "stdout",
     "output_type": "stream",
     "text": [
      "[[1 2]\n",
      " [3 4]] <class 'numpy.ndarray'>\n"
     ]
    }
   ],
   "source": [
    "import numpy as np\n",
    "\n",
    "x = np.array([[1, 2],\n",
    "              [3, 4]])  # Define numpy array.\n",
    "print(x, type(x))"
   ]
  },
  {
   "cell_type": "code",
   "execution_count": 6,
   "id": "fe9644c3-9461-4dab-8f18-c980823185f8",
   "metadata": {},
   "outputs": [
    {
     "data": {
      "text/plain": [
       "array([[1, 2],\n",
       "       [3, 4]])"
      ]
     },
     "execution_count": 6,
     "metadata": {},
     "output_type": "execute_result"
    }
   ],
   "source": [
    "x"
   ]
  },
  {
   "cell_type": "code",
   "execution_count": 7,
   "id": "32d4f585-6fee-4b0c-81a8-374cece9aa1c",
   "metadata": {},
   "outputs": [
    {
     "name": "stdout",
     "output_type": "stream",
     "text": [
      "tensor([[1, 2],\n",
      "        [3, 4]]) <class 'torch.Tensor'>\n"
     ]
    }
   ],
   "source": [
    "# 넘파이의 ndarray를 파이토치의 텐서로 변환\n",
    "x = torch.from_numpy(x)\n",
    "print(x, type(x))"
   ]
  },
  {
   "cell_type": "code",
   "execution_count": 8,
   "id": "42bc4683-3aad-4e1c-807d-b364767e84e3",
   "metadata": {},
   "outputs": [
    {
     "name": "stdout",
     "output_type": "stream",
     "text": [
      "[[1 2]\n",
      " [3 4]] <class 'numpy.ndarray'>\n"
     ]
    }
   ],
   "source": [
    "# 텐서를 ndarray로 변환\n",
    "x = x.numpy()\n",
    "print(x, type(x))"
   ]
  },
  {
   "cell_type": "markdown",
   "id": "c41101d4-1466-48a8-b679-ff0333e3008c",
   "metadata": {},
   "source": [
    "### 5. 텐서 타입 변환"
   ]
  },
  {
   "cell_type": "code",
   "execution_count": 10,
   "id": "00b72b9e-36a4-478c-a0bc-187bb3d523ec",
   "metadata": {},
   "outputs": [
    {
     "data": {
      "text/plain": [
       "tensor([[1, 2],\n",
       "        [3, 4]])"
      ]
     },
     "execution_count": 10,
     "metadata": {},
     "output_type": "execute_result"
    }
   ],
   "source": [
    "ft.long()"
   ]
  },
  {
   "cell_type": "code",
   "execution_count": 11,
   "id": "56c7c205-caae-4f47-9c87-b0aa7ec1dc65",
   "metadata": {},
   "outputs": [
    {
     "data": {
      "text/plain": [
       "tensor([[1., 2.],\n",
       "        [3., 4.]])"
      ]
     },
     "execution_count": 11,
     "metadata": {},
     "output_type": "execute_result"
    }
   ],
   "source": [
    "lt.float()"
   ]
  },
  {
   "cell_type": "markdown",
   "id": "533f5cdb-9bd8-4d20-acf4-7a64043fb4ca",
   "metadata": {},
   "source": [
    "### 6. 텐서 크기 구하기"
   ]
  },
  {
   "cell_type": "code",
   "execution_count": 13,
   "id": "a6de1a74-f594-44d7-8e08-435649e3e508",
   "metadata": {},
   "outputs": [
    {
     "data": {
      "text/plain": [
       "tensor([[[ 1.,  2.],\n",
       "         [ 3.,  4.]],\n",
       "\n",
       "        [[ 5.,  6.],\n",
       "         [ 7.,  8.]],\n",
       "\n",
       "        [[ 9., 10.],\n",
       "         [11., 12.]]])"
      ]
     },
     "execution_count": 13,
     "metadata": {},
     "output_type": "execute_result"
    }
   ],
   "source": [
    "# 3 x 2 x 2 텐서 x 선언\n",
    "x = torch.FloatTensor([[[1,2], [3,4]],[[5, 6],[7,8]],[[9, 10], [11, 12]]])\n",
    "x"
   ]
  },
  {
   "cell_type": "code",
   "execution_count": 15,
   "id": "3b57c64a-e0e9-4581-892c-d1088990ec67",
   "metadata": {},
   "outputs": [
    {
     "data": {
      "text/plain": [
       "tensor([[[ 1.,  2.],\n",
       "         [ 3.,  4.]],\n",
       "\n",
       "        [[ 5.,  6.],\n",
       "         [ 7.,  8.]],\n",
       "\n",
       "        [[ 9., 10.],\n",
       "         [11., 12.]]])"
      ]
     },
     "execution_count": 15,
     "metadata": {},
     "output_type": "execute_result"
    }
   ],
   "source": [
    "y = np.arange(1,13).reshape(3,2,2)\n",
    "x = torch.from_numpy(y).float()\n",
    "x"
   ]
  },
  {
   "cell_type": "code",
   "execution_count": 16,
   "id": "2cfb8140-1e08-4375-8480-9a5ca1dd843b",
   "metadata": {},
   "outputs": [
    {
     "name": "stdout",
     "output_type": "stream",
     "text": [
      "torch.Size([3, 2, 2])\n",
      "torch.Size([3, 2, 2])\n"
     ]
    }
   ],
   "source": [
    "print(x.size()) # 크기 메소드\n",
    "print(x.shape) # 크기 속성"
   ]
  },
  {
   "cell_type": "code",
   "execution_count": 18,
   "id": "b6a3dba9-16e2-4627-8939-a8850d75ee15",
   "metadata": {},
   "outputs": [
    {
     "name": "stdout",
     "output_type": "stream",
     "text": [
      "(3, 2, 2)\n"
     ]
    }
   ],
   "source": [
    "# print(y.size()) numpy에는 size() 메서드 없음\n",
    "print(y.shape) # numpy의 shape은 튜플 형태"
   ]
  },
  {
   "cell_type": "code",
   "execution_count": 19,
   "id": "c53c69cb-294d-44d3-bb80-8b18d6c2b33d",
   "metadata": {},
   "outputs": [
    {
     "name": "stdout",
     "output_type": "stream",
     "text": [
      "2\n",
      "2\n"
     ]
    }
   ],
   "source": [
    "print(x.size(1))\n",
    "print(x.shape[1])"
   ]
  },
  {
   "cell_type": "code",
   "execution_count": 20,
   "id": "9cfa4c0d-8b8a-4141-817e-9aca27e17338",
   "metadata": {},
   "outputs": [
    {
     "name": "stdout",
     "output_type": "stream",
     "text": [
      "3\n",
      "3\n"
     ]
    }
   ],
   "source": [
    "print(x.dim())\n",
    "print(len(x.size()))"
   ]
  },
  {
   "cell_type": "markdown",
   "id": "a5737e0e-629b-4be7-9110-cb149f9137fd",
   "metadata": {},
   "source": [
    "## 기본 연산"
   ]
  },
  {
   "cell_type": "markdown",
   "id": "ec9d939c-3c72-4f06-b77c-91d27e4dacd4",
   "metadata": {},
   "source": [
    "### 1. 요소별 산술 연산"
   ]
  },
  {
   "cell_type": "code",
   "execution_count": 22,
   "id": "d7cc2448-542d-4113-a065-9554b5fdcc51",
   "metadata": {},
   "outputs": [
    {
     "data": {
      "text/plain": [
       "tensor([[3., 4.],\n",
       "        [6., 7.]])"
      ]
     },
     "execution_count": 22,
     "metadata": {},
     "output_type": "execute_result"
    }
   ],
   "source": [
    "a = torch.FloatTensor([[1, 2], [3, 4]])\n",
    "b = torch.FloatTensor([[2, 2], [3, 3]])\n",
    "a + b"
   ]
  },
  {
   "cell_type": "markdown",
   "id": "5016a8a3-335a-49b3-a03b-84d5760e9b37",
   "metadata": {},
   "source": [
    "### 2. 인플레이스 연산(in-place) 연산\n",
    "- 함수명 다음에 밑줄이 붙음\n",
    "- 연산한 결과가 새로운 메모리에 할당되지 않고 원래 변수(텐서)에 할당 "
   ]
  },
  {
   "cell_type": "code",
   "execution_count": 23,
   "id": "3ba30ee5-0250-4b5e-8372-56c6d33b6bf9",
   "metadata": {},
   "outputs": [
    {
     "name": "stdout",
     "output_type": "stream",
     "text": [
      "The history saving thread hit an unexpected error (OperationalError('attempt to write a readonly database')).History will not be written to the database.\n"
     ]
    },
    {
     "data": {
      "text/plain": [
       "tensor([[ 2.,  4.],\n",
       "        [ 9., 12.]])"
      ]
     },
     "execution_count": 23,
     "metadata": {},
     "output_type": "execute_result"
    }
   ],
   "source": [
    "a = torch.FloatTensor([[1, 2], [3, 4]])\n",
    "b = torch.FloatTensor([[2, 2], [3, 3]])\n",
    "a.mul(b)"
   ]
  },
  {
   "cell_type": "code",
   "execution_count": 24,
   "id": "adf7f023-cb7f-4d2e-9bb9-ed020fb71c37",
   "metadata": {},
   "outputs": [
    {
     "name": "stdout",
     "output_type": "stream",
     "text": [
      "tensor([[1., 2.],\n",
      "        [3., 4.]])\n"
     ]
    }
   ],
   "source": [
    "print(a)"
   ]
  },
  {
   "cell_type": "code",
   "execution_count": 25,
   "id": "c8aa64d7-60f2-44ee-8f75-debce495f631",
   "metadata": {},
   "outputs": [
    {
     "data": {
      "text/plain": [
       "tensor([[ 2.,  4.],\n",
       "        [ 9., 12.]])"
      ]
     },
     "execution_count": 25,
     "metadata": {},
     "output_type": "execute_result"
    }
   ],
   "source": [
    "a.mul_(b)"
   ]
  },
  {
   "cell_type": "code",
   "execution_count": 26,
   "id": "607d8001-c29b-43f9-9945-4b52d491d055",
   "metadata": {},
   "outputs": [
    {
     "name": "stdout",
     "output_type": "stream",
     "text": [
      "tensor([[ 2.,  4.],\n",
      "        [ 9., 12.]])\n"
     ]
    }
   ],
   "source": [
    "print(a)"
   ]
  },
  {
   "cell_type": "markdown",
   "id": "1a3d4b7e-2b3e-4ebc-8f4f-6c86d92a8547",
   "metadata": {},
   "source": [
    "참고: 연산 전후의 데이터 타입이 달라지면 오류가 발생"
   ]
  },
  {
   "cell_type": "code",
   "execution_count": 27,
   "id": "cd324c1f-72dc-4800-934d-87c2d9acd91f",
   "metadata": {},
   "outputs": [
    {
     "ename": "RuntimeError",
     "evalue": "result type Float can't be cast to the desired output type Long",
     "output_type": "error",
     "traceback": [
      "\u001b[31m---------------------------------------------------------------------------\u001b[39m",
      "\u001b[31mRuntimeError\u001b[39m                              Traceback (most recent call last)",
      "\u001b[36mCell\u001b[39m\u001b[36m \u001b[39m\u001b[32mIn[27]\u001b[39m\u001b[32m, line 3\u001b[39m\n\u001b[32m      1\u001b[39m a = torch.LongTensor([[\u001b[32m1\u001b[39m, \u001b[32m2\u001b[39m], [\u001b[32m3\u001b[39m, \u001b[32m4\u001b[39m]])\n\u001b[32m      2\u001b[39m b = torch.FloatTensor([[\u001b[32m2\u001b[39m, \u001b[32m2\u001b[39m], [\u001b[32m3\u001b[39m, \u001b[32m3\u001b[39m]])\n\u001b[32m----> \u001b[39m\u001b[32m3\u001b[39m \u001b[43ma\u001b[49m\u001b[43m.\u001b[49m\u001b[43mmul_\u001b[49m\u001b[43m(\u001b[49m\u001b[43mb\u001b[49m\u001b[43m)\u001b[49m\n",
      "\u001b[31mRuntimeError\u001b[39m: result type Float can't be cast to the desired output type Long"
     ]
    }
   ],
   "source": [
    "a = torch.LongTensor([[1, 2], [3, 4]])\n",
    "b = torch.FloatTensor([[2, 2], [3, 3]]) \n",
    "a.mul_(b) # a에 실수를 넣으려고 하면 에러 발생"
   ]
  },
  {
   "cell_type": "code",
   "execution_count": 28,
   "id": "962bf37c-6749-47c5-bd06-177ccf1b41eb",
   "metadata": {},
   "outputs": [
    {
     "data": {
      "text/plain": [
       "tensor([[ 2.,  4.],\n",
       "        [ 9., 12.]])"
      ]
     },
     "execution_count": 28,
     "metadata": {},
     "output_type": "execute_result"
    }
   ],
   "source": [
    "b.mul_(a)"
   ]
  },
  {
   "cell_type": "markdown",
   "id": "65d02354-100f-447f-a977-5653b9c47366",
   "metadata": {},
   "source": [
    "(실수 x 정수) 연산은 결과가 실수가 되므로 원래 실수인 b의 메서드를 사용하면 문제가 발생하지 않는다."
   ]
  },
  {
   "cell_type": "markdown",
   "id": "fb4eaab2-1418-46b3-9764-ea3473e10ee8",
   "metadata": {},
   "source": [
    "### 3. 차원 축소 연산\n",
    "벡터(1차원 배열)의 합은 스칼라 값이므로 차원이 하나 줄어들게 됨"
   ]
  },
  {
   "cell_type": "code",
   "execution_count": 35,
   "id": "f58194f8-05f5-4f33-8f15-7b8dd24921ef",
   "metadata": {},
   "outputs": [],
   "source": [
    "x.data_ptr() == y.data_ptr()"
   ]
  },
  {
   "cell_type": "code",
   "execution_count": 36,
   "id": "b61c35cf-3a4e-4f81-b949-ac56d1155a76",
   "metadata": {},
   "outputs": [
    {
     "name": "stdout",
     "output_type": "stream",
     "text": [
      "tensor(10.)\n",
      "tensor(2.5000)\n"
     ]
    }
   ],
   "source": [
    "print(x.sum())\n",
    "print(x.mean())"
   ]
  },
  {
   "cell_type": "code",
   "execution_count": 37,
   "id": "a8d30ef7-0e52-405c-a644-c07bbf911fa7",
   "metadata": {},
   "outputs": [
    {
     "name": "stdout",
     "output_type": "stream",
     "text": [
      "tensor([4., 6.])\n"
     ]
    }
   ],
   "source": [
    "print(x.sum(dim=0))"
   ]
  },
  {
   "cell_type": "markdown",
   "id": "48d57c1f-dfb1-48a9-bd1a-7b3802c0e26a",
   "metadata": {},
   "source": [
    "### 4. 브로드캐스팅 연산\n",
    "크기가 다른 텐서들의 산술 연산을 가능하게 함\n",
    "- 텐서 + 스칼라\n",
    "- 텐서 + 벡터\n",
    "- 텐서 + 텐서\n",
    "\n",
    "규칙\n",
    "- 규칙 1: 두 배열의 차원 수가 다르면 작은 차원을 가진 배열의 앞쪽을 1로 채운다.\n",
    "- 규칙 2: 두 배열의 shape이 일치하지 않는다면, 일치하지 않는 차원에서 크기가 1인 다른쪽 배열의 크기와 일치하도록 수정한다.\n",
    "- 규칙 3: 임의의 차원에서 크기가 일치하지 않으면서 양쪽 모두 크기가 1이 아니라면 브로드캐스팅이 되지 않는다."
   ]
  },
  {
   "cell_type": "markdown",
   "id": "e97f4b93-e385-4a46-9933-013730744e76",
   "metadata": {},
   "source": [
    "## 텐서 형태 반환\n",
    "### 1. view 함수"
   ]
  },
  {
   "cell_type": "code",
   "execution_count": 40,
   "id": "4cc106fd-b2e1-4778-a5bd-669747cee0d7",
   "metadata": {},
   "outputs": [
    {
     "data": {
      "text/plain": [
       "tensor([[[ 1,  2],\n",
       "         [ 3,  4]],\n",
       "\n",
       "        [[ 5,  6],\n",
       "         [ 7,  8]],\n",
       "\n",
       "        [[ 9, 10],\n",
       "         [11, 12]]])"
      ]
     },
     "execution_count": 40,
     "metadata": {},
     "output_type": "execute_result"
    }
   ],
   "source": [
    "x = torch.from_numpy(np.arange(1,13).reshape(3,2,2))\n",
    "x"
   ]
  },
  {
   "cell_type": "code",
   "execution_count": 41,
   "id": "be3d67b3-7c03-4892-9eb7-3299f904c426",
   "metadata": {},
   "outputs": [
    {
     "data": {
      "text/plain": [
       "tensor([ 1,  2,  3,  4,  5,  6,  7,  8,  9, 10, 11, 12])"
      ]
     },
     "execution_count": 41,
     "metadata": {},
     "output_type": "execute_result"
    }
   ],
   "source": [
    "x.view(12)"
   ]
  },
  {
   "cell_type": "code",
   "execution_count": 42,
   "id": "97a196d3-e0e7-4e7c-8d08-d767f0f0438b",
   "metadata": {},
   "outputs": [
    {
     "data": {
      "text/plain": [
       "tensor([[ 1,  2,  3,  4],\n",
       "        [ 5,  6,  7,  8],\n",
       "        [ 9, 10, 11, 12]])"
      ]
     },
     "execution_count": 42,
     "metadata": {},
     "output_type": "execute_result"
    }
   ],
   "source": [
    "x.view(3, -1) # -1은 나머지가 차원에 맞춰지게 함"
   ]
  },
  {
   "cell_type": "code",
   "execution_count": 43,
   "id": "fe4681ea-3217-423c-8857-7feceaa90e57",
   "metadata": {},
   "outputs": [
    {
     "data": {
      "text/plain": [
       "True"
      ]
     },
     "execution_count": 43,
     "metadata": {},
     "output_type": "execute_result"
    }
   ],
   "source": [
    "# view 함수의 결과는 텐서의 주소를 바꾸지 않음 (3,2,2) <-> (3,4)\n",
    "y = x.view(3,4\n",
    ")"
   ]
  },
  {
   "cell_type": "code",
   "execution_count": 44,
   "id": "82ae1ea1-f2b5-4615-b19a-7e05c58a5e19",
   "metadata": {},
   "outputs": [
    {
     "data": {
      "text/plain": [
       "tensor([[100,   2,   3,   4],\n",
       "        [  5,   6,   7,   8],\n",
       "        [  9,  10,  11,  12]])"
      ]
     },
     "execution_count": 44,
     "metadata": {},
     "output_type": "execute_result"
    }
   ],
   "source": [
    "y[0][0] = 100\n",
    "y"
   ]
  },
  {
   "cell_type": "code",
   "execution_count": 45,
   "id": "f30f8f3e-34c9-44ec-8a8e-b6fff04a01cc",
   "metadata": {},
   "outputs": [
    {
     "data": {
      "text/plain": [
       "tensor([[[100,   2],\n",
       "         [  3,   4]],\n",
       "\n",
       "        [[  5,   6],\n",
       "         [  7,   8]],\n",
       "\n",
       "        [[  9,  10],\n",
       "         [ 11,  12]]])"
      ]
     },
     "execution_count": 45,
     "metadata": {},
     "output_type": "execute_result"
    }
   ],
   "source": [
    "x"
   ]
  },
  {
   "cell_type": "code",
   "execution_count": 46,
   "id": "f479422f-8486-4cc8-84cb-66ab330453f3",
   "metadata": {},
   "outputs": [
    {
     "data": {
      "text/plain": [
       "tensor([100,   2,   3,   4,   5,   6,   7,   8,   9,  10,  11,  12])"
      ]
     },
     "execution_count": 46,
     "metadata": {},
     "output_type": "execute_result"
    }
   ],
   "source": [
    "x.contiguous().view(-1)\n",
    "x.reshape(-1) # reshape 함수는 contiguous 함수와 view 함수를 차례로 호출"
   ]
  },
  {
   "cell_type": "markdown",
   "id": "fbe5c057-108a-489f-883a-01a67d464e4c",
   "metadata": {},
   "source": [
    "순차적으로 선언된 텐서가 아닌 경우 view 함수는 오류 발생하므로 contiguous()와 함께 사용"
   ]
  },
  {
   "cell_type": "code",
   "execution_count": 48,
   "id": "eabbef65-f11e-49f6-b8a5-749ca7f9ba05",
   "metadata": {},
   "outputs": [
    {
     "name": "stdout",
     "output_type": "stream",
     "text": [
      "4849696768\n",
      "4849696772\n",
      "4849696776\n",
      "4849696780\n"
     ]
    }
   ],
   "source": [
    "x = torch.FloatTensor([[1, 2], [3, 4]])\n",
    "for i in range(2):\n",
    "    for j in range(2):\n",
    "        print(x[i][j].data_ptr()) # 차례로 메모리 위치 불러옴"
   ]
  },
  {
   "cell_type": "code",
   "execution_count": 57,
   "id": "4fcd522e-fde1-41f1-96b9-6c9a47fc50a3",
   "metadata": {},
   "outputs": [
    {
     "data": {
      "text/plain": [
       "(2, 1)"
      ]
     },
     "execution_count": 57,
     "metadata": {},
     "output_type": "execute_result"
    }
   ],
   "source": [
    "x.stride()"
   ]
  },
  {
   "cell_type": "code",
   "execution_count": 54,
   "id": "10d98fe8-cc39-46c0-8d90-928c3f57c8da",
   "metadata": {},
   "outputs": [
    {
     "data": {
      "text/plain": [
       "tensor([1., 2., 3., 4.])"
      ]
     },
     "execution_count": 54,
     "metadata": {},
     "output_type": "execute_result"
    }
   ],
   "source": [
    "x.view(-1) # 에러 발생하므로 contifuous 사용 필요"
   ]
  },
  {
   "cell_type": "markdown",
   "id": "8bc4bc99-4dd7-421e-94e2-eb8a97ba7dcf",
   "metadata": {},
   "source": [
    "### 2. squeeze 함수\n",
    "차원의 크기가 1인 차원을 제거"
   ]
  },
  {
   "cell_type": "code",
   "execution_count": 59,
   "id": "87771245-4713-4b92-8b6e-b9ac9ac6fa98",
   "metadata": {},
   "outputs": [
    {
     "data": {
      "text/plain": [
       "torch.Size([1, 2, 2])"
      ]
     },
     "execution_count": 59,
     "metadata": {},
     "output_type": "execute_result"
    }
   ],
   "source": [
    "x = torch.FloatTensor([[[1, 2], [3, 4]]])\n",
    "x.size()"
   ]
  },
  {
   "cell_type": "code",
   "execution_count": 61,
   "id": "3bacb4f0-4174-414c-904c-46a733287de6",
   "metadata": {},
   "outputs": [
    {
     "data": {
      "text/plain": [
       "tensor([[1., 2.],\n",
       "        [3., 4.]])"
      ]
     },
     "execution_count": 61,
     "metadata": {},
     "output_type": "execute_result"
    }
   ],
   "source": [
    "x.squeeze()"
   ]
  },
  {
   "cell_type": "markdown",
   "id": "cba127f0-a64a-4539-aa37-d14c9ff76d5b",
   "metadata": {},
   "source": [
    "### 3. unsqueeze 함수\n",
    "squeeze 함수와 반대로 크기가 1인 차원을 삽입함 (삽입할 위치 지정)"
   ]
  },
  {
   "cell_type": "code",
   "execution_count": 63,
   "id": "914df094-43c1-4661-9043-acd473e2f7a3",
   "metadata": {},
   "outputs": [
    {
     "data": {
      "text/plain": [
       "torch.Size([2, 2])"
      ]
     },
     "execution_count": 63,
     "metadata": {},
     "output_type": "execute_result"
    }
   ],
   "source": [
    "x = torch.FloatTensor([[1, 2], [3, 4]])\n",
    "x.size()"
   ]
  },
  {
   "cell_type": "code",
   "execution_count": 64,
   "id": "d505e158-cd89-4400-888e-a41b38f154c0",
   "metadata": {},
   "outputs": [
    {
     "data": {
      "text/plain": [
       "torch.Size([2, 1, 2])"
      ]
     },
     "execution_count": 64,
     "metadata": {},
     "output_type": "execute_result"
    }
   ],
   "source": [
    "x.unsqueeze(1).size()"
   ]
  },
  {
   "cell_type": "code",
   "execution_count": 66,
   "id": "23515a94-422b-4f37-82b6-74c870f9342d",
   "metadata": {},
   "outputs": [
    {
     "data": {
      "text/plain": [
       "torch.Size([2, 2, 1])"
      ]
     },
     "execution_count": 66,
     "metadata": {},
     "output_type": "execute_result"
    }
   ],
   "source": [
    "x.unsqueeze(-1).size()"
   ]
  },
  {
   "cell_type": "code",
   "execution_count": 68,
   "id": "2735e8a7-adc0-4b02-881e-46e20f34eb12",
   "metadata": {},
   "outputs": [
    {
     "name": "stdout",
     "output_type": "stream",
     "text": [
      "tensor([[[1.],\n",
      "         [2.],\n",
      "         [3.]],\n",
      "\n",
      "        [[4.],\n",
      "         [5.],\n",
      "         [6.]]])\n"
     ]
    }
   ],
   "source": [
    "import torch\n",
    "a = torch.FloatTensor([[[1],[2],[3]],[[4],[5],[6]]]) # shape (2,3,1)\n",
    "print(a)"
   ]
  },
  {
   "cell_type": "code",
   "execution_count": 79,
   "id": "56941952-7d27-490c-98f9-eeab331a4c52",
   "metadata": {},
   "outputs": [
    {
     "data": {
      "text/plain": [
       "torch.Size([1, 3, 2])"
      ]
     },
     "execution_count": 79,
     "metadata": {},
     "output_type": "execute_result"
    }
   ],
   "source": [
    "b = a.squeeze() # shape (2,3) -> [[1,2,3][4,5,6]]\n",
    "c = b.T # shape (3,2) -> [1,4][2,5][3,6]\n",
    "d = c.unsqueeze(0) # shape (1,3,2)\n",
    "\n",
    "\n",
    "b.size()\n",
    "c.size()\n",
    "d.size()"
   ]
  },
  {
   "cell_type": "markdown",
   "id": "531fa577-3c8a-4695-b0bb-72bff8001e10",
   "metadata": {},
   "source": [
    "## 텐서 자르기 & 붙이기\n",
    "### 1. 인덱싱과 슬라이싱"
   ]
  },
  {
   "cell_type": "code",
   "execution_count": 80,
   "id": "c24d0680-7f07-4ab5-be01-f5b7607ca7a7",
   "metadata": {},
   "outputs": [
    {
     "name": "stdout",
     "output_type": "stream",
     "text": [
      "torch.Size([3, 2, 2])\n"
     ]
    }
   ],
   "source": [
    "x = torch.FloatTensor([[[1,2],[3,4]],[[5,6],[7,8]],[[9, 10],[11,12]]])\n",
    "print(x.size())"
   ]
  },
  {
   "cell_type": "markdown",
   "id": "15b53d0e-58b5-454a-9de1-ff5ad7860228",
   "metadata": {},
   "source": [
    "### 2. split 함수\n",
    "텐서를 특정 차원에 대해서 원하는 크기로 잘라줌\n",
    "원하는 크기로 나누고 마지막은 남은 것을 배분\n",
    "- split_size: 나누는 조각 크기\n",
    "- dim: 나누게 되는 차원"
   ]
  },
  {
   "cell_type": "code",
   "execution_count": 81,
   "id": "9bf0c603-3285-4e00-917f-d9893fc34c7b",
   "metadata": {},
   "outputs": [
    {
     "name": "stdout",
     "output_type": "stream",
     "text": [
      "torch.Size([4, 4])\n",
      "torch.Size([4, 4])\n",
      "torch.Size([2, 4])\n"
     ]
    }
   ],
   "source": [
    "x = torch.FloatTensor(10,4)\n",
    "splits = x.split(4, dim=0)\n",
    "for s in splits:\n",
    "        print(s.size())"
   ]
  },
  {
   "cell_type": "markdown",
   "id": "b9e15dc7-a4a3-4a3a-859b-d9c0f0242469",
   "metadata": {},
   "source": [
    "### 3. chunk 함수\n",
    "크기에 상관없이 원하는 개수로 나눔\n",
    "최대한 같은 크기로 나누고 마지막에 나머지를 배분\n",
    "- chunk: 나누는 조각의 개수\n",
    "- dim: 나누게 되는 차원"
   ]
  },
  {
   "cell_type": "code",
   "execution_count": 83,
   "id": "04f1a793-6276-4d32-95b3-d65d1bd17690",
   "metadata": {},
   "outputs": [
    {
     "name": "stdout",
     "output_type": "stream",
     "text": [
      "torch.Size([3, 4])\n",
      "torch.Size([3, 4])\n",
      "torch.Size([3, 4])\n",
      "torch.Size([1, 4])\n"
     ]
    }
   ],
   "source": [
    "x = torch.FloatTensor(10,4)\n",
    "chunks = x.chunk(4, dim=0)\n",
    "for c in splits:\n",
    "        print(c.size())"
   ]
  },
  {
   "cell_type": "markdown",
   "id": "3eb13138-28df-4ed3-b47a-8b4dc463769e",
   "metadata": {},
   "source": [
    "### 4. index_select 함수\n",
    "특정 차원에서 원하는 인덱스 위치의 값만 가져옴 \n",
    "- dim: 인덱스를 지정할 차원\n",
    "- index: 정수 텐서로 지정한 인덱스 목록"
   ]
  },
  {
   "cell_type": "code",
   "execution_count": 87,
   "id": "cb1e36ba-32fd-4f69-b9bf-0aed204308f3",
   "metadata": {},
   "outputs": [
    {
     "name": "stdout",
     "output_type": "stream",
     "text": [
      "tensor([[[5., 5.],\n",
      "         [6., 6.]],\n",
      "\n",
      "        [[3., 3.],\n",
      "         [4., 4.]]])\n"
     ]
    }
   ],
   "source": [
    "x = torch.FloatTensor([[[1, 1],[2, 2]],[[3, 3],[4, 4]],[[5, 5],[6, 6]]])\n",
    "indice = torch.LongTensor([2, 1])\n",
    "y = x.index_select(dim=0, index=indice)\n",
    "print(y)"
   ]
  },
  {
   "cell_type": "markdown",
   "id": "190bfa83-62f0-40a4-99af-917e573ffc59",
   "metadata": {},
   "source": [
    "### 5. concatenate 함수\n",
    "여러 텐서를 합쳐서 하나의 텐서를 생성\n",
    "- tensors: 텐서 목록\n",
    "- dim: int, optional"
   ]
  },
  {
   "cell_type": "code",
   "execution_count": 89,
   "id": "12ca5be6-7c21-4bdb-8ae3-9da84878491e",
   "metadata": {},
   "outputs": [
    {
     "name": "stdout",
     "output_type": "stream",
     "text": [
      "torch.Size([3, 3]) torch.Size([3, 3])\n"
     ]
    }
   ],
   "source": [
    "x = torch.FloatTensor([[1, 2, 3],\n",
    "                       [4, 5, 6],\n",
    "                       [7, 8, 9]])\n",
    "\n",
    "y = torch.FloatTensor([[10, 11, 12],\n",
    "                       [13, 14, 15],\n",
    "                       [16, 17, 18]])\n",
    "print(x.size(), y.size())"
   ]
  },
  {
   "cell_type": "code",
   "execution_count": 90,
   "id": "45db1731-94e8-442b-a03a-6b97d34582c0",
   "metadata": {},
   "outputs": [
    {
     "name": "stdout",
     "output_type": "stream",
     "text": [
      "tensor([[ 1.,  2.,  3.],\n",
      "        [ 4.,  5.,  6.],\n",
      "        [ 7.,  8.,  9.],\n",
      "        [10., 11., 12.],\n",
      "        [13., 14., 15.],\n",
      "        [16., 17., 18.]])\n"
     ]
    }
   ],
   "source": [
    "z = torch.cat([x,y], dim=0)\n",
    "print(z)"
   ]
  },
  {
   "cell_type": "markdown",
   "id": "2303e1f0-afeb-444d-b09e-b801f8ec44a1",
   "metadata": {},
   "source": [
    "### 6. stack 함수\n",
    "cat() 함수와 비슷하지만 새로운 차원을 추가하여 합치는 텐서를 쌓는 방식으로 합침"
   ]
  },
  {
   "cell_type": "code",
   "execution_count": 91,
   "id": "dab894bf-6c25-4f94-9970-fb4ea8af0313",
   "metadata": {},
   "outputs": [
    {
     "name": "stdout",
     "output_type": "stream",
     "text": [
      "tensor([[[ 1.,  2.,  3.],\n",
      "         [ 4.,  5.,  6.],\n",
      "         [ 7.,  8.,  9.]],\n",
      "\n",
      "        [[10., 11., 12.],\n",
      "         [13., 14., 15.],\n",
      "         [16., 17., 18.]]])\n"
     ]
    }
   ],
   "source": [
    "z = torch.stack([x,y])\n",
    "print(z)"
   ]
  },
  {
   "cell_type": "markdown",
   "id": "0927c999-7c91-4cc1-ab4f-3f3ecda02fa1",
   "metadata": {},
   "source": [
    "## 유용한 함수들\n",
    "### 1. expand 함수\n",
    "차원의 크기가 차원을 원하는 크기로 늘려줌"
   ]
  },
  {
   "cell_type": "code",
   "execution_count": 92,
   "id": "408bd601-9497-42e6-a3b3-94595441a5fe",
   "metadata": {},
   "outputs": [
    {
     "data": {
      "text/plain": [
       "torch.Size([2, 1, 2])"
      ]
     },
     "execution_count": 92,
     "metadata": {},
     "output_type": "execute_result"
    }
   ],
   "source": [
    "x = torch.FloatTensor([[[1,2]],[[3,4]]])\n",
    "x.size()"
   ]
  },
  {
   "cell_type": "code",
   "execution_count": 93,
   "id": "fdf73e2a-5ede-4479-9ad8-10d577703c78",
   "metadata": {},
   "outputs": [
    {
     "name": "stdout",
     "output_type": "stream",
     "text": [
      "tensor([[[1., 2.],\n",
      "         [1., 2.],\n",
      "         [1., 2.]],\n",
      "\n",
      "        [[3., 4.],\n",
      "         [3., 4.],\n",
      "         [3., 4.]]])\n"
     ]
    }
   ],
   "source": [
    "y = x.expand(2,3,2)\n",
    "print(y)"
   ]
  },
  {
   "cell_type": "markdown",
   "id": "7de4861d-49c9-4a5a-9e34-6a5d39a6691d",
   "metadata": {},
   "source": [
    "### 2. random permutation 함수\n",
    "인수로 주어진 숫자로, 0부터 해당 숫자 앞가지의 정수를 임의의 순서로 텐서를 만듦   \n",
    "suffle()은 주어진 데이터를 섞는 것이고, randperm()은 1부터 해당 숫자까지 데이터를 생성해서 섞는 것이 다름   \n",
    "딥러닝 학습에서 데이터를 무작 순서로 넣어주기 위해 데이터의 인덱스를 섞어주는 역할로 사용 (데이터 크기 일치)"
   ]
  },
  {
   "cell_type": "code",
   "execution_count": 94,
   "id": "127b7e83-0980-4ef6-bc36-f40366870e5d",
   "metadata": {},
   "outputs": [
    {
     "data": {
      "text/plain": [
       "tensor([8, 0, 2, 9, 4, 7, 3, 1, 5, 6])"
      ]
     },
     "execution_count": 94,
     "metadata": {},
     "output_type": "execute_result"
    }
   ],
   "source": [
    "x = torch.randperm(10)\n",
    "x"
   ]
  },
  {
   "cell_type": "markdown",
   "id": "b16c1b96-0ac1-4b29-94e2-2c4998d319e9",
   "metadata": {},
   "source": [
    "### 3. argument max 함수\n",
    "X의 원소 중에서 함수 f(x)의 출력값을 최대로 하는 입력 x를 반환   \n",
    "즉, 함수 f(x)의 최대값이 나오는 텐서 X의 인덱스를 반환"
   ]
  },
  {
   "cell_type": "code",
   "execution_count": 96,
   "id": "ed8b4f6f-aa14-42c6-9ef2-b1bd78d18ec3",
   "metadata": {},
   "outputs": [
    {
     "data": {
      "text/plain": [
       "tensor([[[16, 10, 17],\n",
       "         [ 4, 21, 15],\n",
       "         [19,  3,  0]],\n",
       "\n",
       "        [[26, 14,  6],\n",
       "         [11, 20, 18],\n",
       "         [ 7,  5, 25]],\n",
       "\n",
       "        [[23,  2,  1],\n",
       "         [22, 13, 24],\n",
       "         [ 9,  8, 12]]])"
      ]
     },
     "execution_count": 96,
     "metadata": {},
     "output_type": "execute_result"
    }
   ],
   "source": [
    "x = torch.randperm(3**3).reshape(3,3,-1)\n",
    "x"
   ]
  },
  {
   "cell_type": "code",
   "execution_count": 97,
   "id": "94a49943-c127-4cd3-b3a5-f7cb1a4b39ab",
   "metadata": {},
   "outputs": [
    {
     "data": {
      "text/plain": [
       "tensor([[2, 1, 0],\n",
       "        [0, 1, 2],\n",
       "        [0, 2, 2]])"
      ]
     },
     "execution_count": 97,
     "metadata": {},
     "output_type": "execute_result"
    }
   ],
   "source": [
    "x.argmax(dim=-1) #가장 큰 숫자가 있는 위치를 출력 -> 3차원이 2차원으로 변환(차원이 하나 감소)"
   ]
  },
  {
   "cell_type": "markdown",
   "id": "026a84d5-bb93-4b06-baf7-8c3e940483a9",
   "metadata": {},
   "source": [
    "결과 텐서의 첫번째 1은 [21,25,4] 중에서 제일 큰 인덱스 1을 의미함"
   ]
  },
  {
   "cell_type": "markdown",
   "id": "5c6216bb-cb9c-4639-a6ea-819ee995d7a8",
   "metadata": {},
   "source": [
    "### 4. top-k 함수\n",
    "argmax() 함수는 가장 큰 값의 인덱스를 반환하는 것에 반해, topx() 함수는 가장 큰 값부터 k개의 값과 인덱스를 모두 반환   \n",
    "따라서 k=1일 때도 argmax()보다 차원이 하나 더 늘어남"
   ]
  },
  {
   "cell_type": "code",
   "execution_count": 98,
   "id": "23139626-6ae9-4676-9c92-bf046aabd453",
   "metadata": {},
   "outputs": [
    {
     "name": "stdout",
     "output_type": "stream",
     "text": [
      "torch.Size([3, 3, 1])\n",
      "torch.Size([3, 3, 1])\n"
     ]
    }
   ],
   "source": [
    "values, indices = torch.topk(x, k=1, dim=-1)\n",
    "\n",
    "print(values.size())\n",
    "print(indices.size())"
   ]
  },
  {
   "cell_type": "code",
   "execution_count": 99,
   "id": "4476c671-6144-4c15-aaa2-3ce0df26bbc7",
   "metadata": {},
   "outputs": [
    {
     "name": "stdout",
     "output_type": "stream",
     "text": [
      "tensor([[[17],\n",
      "         [21],\n",
      "         [19]],\n",
      "\n",
      "        [[26],\n",
      "         [20],\n",
      "         [25]],\n",
      "\n",
      "        [[23],\n",
      "         [24],\n",
      "         [12]]])\n",
      "tensor([[[2],\n",
      "         [1],\n",
      "         [0]],\n",
      "\n",
      "        [[0],\n",
      "         [1],\n",
      "         [2]],\n",
      "\n",
      "        [[0],\n",
      "         [2],\n",
      "         [2]]])\n"
     ]
    }
   ],
   "source": [
    "print(values)\n",
    "print(indices)"
   ]
  },
  {
   "cell_type": "markdown",
   "id": "04c1a0d8-b16f-4aca-85a9-4ac5365a72bd",
   "metadata": {},
   "source": [
    "### 5. sort 함수\n",
    "텐서 x를 원하는 차원 기준으로 정렬 후 k개를 뽑아오는 파이토치 코드"
   ]
  },
  {
   "cell_type": "code",
   "execution_count": null,
   "id": "fbc5b8e3-de37-404d-baf8-5e52052c21d3",
   "metadata": {},
   "outputs": [],
   "source": []
  }
 ],
 "metadata": {
  "kernelspec": {
   "display_name": "Python 3 (ipykernel)",
   "language": "python",
   "name": "python3"
  },
  "language_info": {
   "codemirror_mode": {
    "name": "ipython",
    "version": 3
   },
   "file_extension": ".py",
   "mimetype": "text/x-python",
   "name": "python",
   "nbconvert_exporter": "python",
   "pygments_lexer": "ipython3",
   "version": "3.13.5"
  }
 },
 "nbformat": 4,
 "nbformat_minor": 5
}
